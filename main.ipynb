{
  "cells": [
    {
      "cell_type": "markdown",
      "metadata": {
        "id": "bxLq4YIpabBo"
      },
      "source": [
        "**KMNIST IMAGE CLASSIFICATION USING CNN**\n",
        "\n",
        "In this project, I have trained a Convolutional Neural Network (CNN) to classify handwritten characters from the Kuzushiji-MNIST (KMNIST) dataset.\n",
        "\n",
        "Firstly, I installed necessary libraries to build and train my model."
      ]
    },
    {
      "cell_type": "code",
      "execution_count": 1,
      "metadata": {
        "colab": {
          "base_uri": "https://localhost:8080/"
        },
        "id": "Ct2pb12YaT-L",
        "outputId": "da15f949-9d97-4c95-95f3-bfe7d0ada5a9"
      },
      "outputs": [
        {
          "name": "stdout",
          "output_type": "stream",
          "text": [
            "Requirement already satisfied: torch in /usr/local/lib/python3.10/dist-packages (2.4.0+cu121)\n",
            "Requirement already satisfied: filelock in /usr/local/lib/python3.10/dist-packages (from torch) (3.16.0)\n",
            "Requirement already satisfied: typing-extensions>=4.8.0 in /usr/local/lib/python3.10/dist-packages (from torch) (4.12.2)\n",
            "Requirement already satisfied: sympy in /usr/local/lib/python3.10/dist-packages (from torch) (1.13.2)\n",
            "Requirement already satisfied: networkx in /usr/local/lib/python3.10/dist-packages (from torch) (3.3)\n",
            "Requirement already satisfied: jinja2 in /usr/local/lib/python3.10/dist-packages (from torch) (3.1.4)\n",
            "Requirement already satisfied: fsspec in /usr/local/lib/python3.10/dist-packages (from torch) (2024.6.1)\n",
            "Requirement already satisfied: MarkupSafe>=2.0 in /usr/local/lib/python3.10/dist-packages (from jinja2->torch) (2.1.5)\n",
            "Requirement already satisfied: mpmath<1.4,>=1.1.0 in /usr/local/lib/python3.10/dist-packages (from sympy->torch) (1.3.0)\n",
            "Requirement already satisfied: torchvision in /usr/local/lib/python3.10/dist-packages (0.19.0+cu121)\n",
            "Requirement already satisfied: numpy in /usr/local/lib/python3.10/dist-packages (from torchvision) (1.26.4)\n",
            "Requirement already satisfied: torch==2.4.0 in /usr/local/lib/python3.10/dist-packages (from torchvision) (2.4.0+cu121)\n",
            "Requirement already satisfied: pillow!=8.3.*,>=5.3.0 in /usr/local/lib/python3.10/dist-packages (from torchvision) (9.4.0)\n",
            "Requirement already satisfied: filelock in /usr/local/lib/python3.10/dist-packages (from torch==2.4.0->torchvision) (3.16.0)\n",
            "Requirement already satisfied: typing-extensions>=4.8.0 in /usr/local/lib/python3.10/dist-packages (from torch==2.4.0->torchvision) (4.12.2)\n",
            "Requirement already satisfied: sympy in /usr/local/lib/python3.10/dist-packages (from torch==2.4.0->torchvision) (1.13.2)\n",
            "Requirement already satisfied: networkx in /usr/local/lib/python3.10/dist-packages (from torch==2.4.0->torchvision) (3.3)\n",
            "Requirement already satisfied: jinja2 in /usr/local/lib/python3.10/dist-packages (from torch==2.4.0->torchvision) (3.1.4)\n",
            "Requirement already satisfied: fsspec in /usr/local/lib/python3.10/dist-packages (from torch==2.4.0->torchvision) (2024.6.1)\n",
            "Requirement already satisfied: MarkupSafe>=2.0 in /usr/local/lib/python3.10/dist-packages (from jinja2->torch==2.4.0->torchvision) (2.1.5)\n",
            "Requirement already satisfied: mpmath<1.4,>=1.1.0 in /usr/local/lib/python3.10/dist-packages (from sympy->torch==2.4.0->torchvision) (1.3.0)\n",
            "Requirement already satisfied: matplotlib in /usr/local/lib/python3.10/dist-packages (3.7.1)\n",
            "Requirement already satisfied: contourpy>=1.0.1 in /usr/local/lib/python3.10/dist-packages (from matplotlib) (1.3.0)\n",
            "Requirement already satisfied: cycler>=0.10 in /usr/local/lib/python3.10/dist-packages (from matplotlib) (0.12.1)\n",
            "Requirement already satisfied: fonttools>=4.22.0 in /usr/local/lib/python3.10/dist-packages (from matplotlib) (4.53.1)\n",
            "Requirement already satisfied: kiwisolver>=1.0.1 in /usr/local/lib/python3.10/dist-packages (from matplotlib) (1.4.7)\n",
            "Requirement already satisfied: numpy>=1.20 in /usr/local/lib/python3.10/dist-packages (from matplotlib) (1.26.4)\n",
            "Requirement already satisfied: packaging>=20.0 in /usr/local/lib/python3.10/dist-packages (from matplotlib) (24.1)\n",
            "Requirement already satisfied: pillow>=6.2.0 in /usr/local/lib/python3.10/dist-packages (from matplotlib) (9.4.0)\n",
            "Requirement already satisfied: pyparsing>=2.3.1 in /usr/local/lib/python3.10/dist-packages (from matplotlib) (3.1.4)\n",
            "Requirement already satisfied: python-dateutil>=2.7 in /usr/local/lib/python3.10/dist-packages (from matplotlib) (2.8.2)\n",
            "Requirement already satisfied: six>=1.5 in /usr/local/lib/python3.10/dist-packages (from python-dateutil>=2.7->matplotlib) (1.16.0)\n"
          ]
        }
      ],
      "source": [
        "!pip install torch\n",
        "!pip install torchvision\n",
        "!pip install matplotlib"
      ]
    },
    {
      "cell_type": "markdown",
      "metadata": {
        "id": "KgfJCSAUbbqY"
      },
      "source": [
        "Then, I imported all the necessary PyTorch modules for my project. Dataset, DataLoader, transforms, nn all are necessary for successful creation and training of my CNN in this project."
      ]
    },
    {
      "cell_type": "code",
      "execution_count": 2,
      "metadata": {
        "colab": {
          "base_uri": "https://localhost:8080/"
        },
        "id": "JjZM9l9b4nh5",
        "outputId": "51fd65a3-445e-4892-86eb-94a3b650fee4"
      },
      "outputs": [
        {
          "data": {
            "text/plain": [
              "<torch._C.Generator at 0x7eb7de671db0>"
            ]
          },
          "execution_count": 2,
          "metadata": {},
          "output_type": "execute_result"
        }
      ],
      "source": [
        "# Import PyTorch modules needed\n",
        "from torch.utils.data import Dataset, DataLoader\n",
        "from torchvision import transforms\n",
        "import torch\n",
        "import torch.nn as nn\n",
        "import torchvision.datasets as dsets\n",
        "torch.manual_seed(0)"
      ]
    },
    {
      "cell_type": "markdown",
      "metadata": {
        "id": "my7zYeF6cG8v"
      },
      "source": [
        "Here, I have checked if a CUDA-capable GPU is available using torch.cuda.is_available(). If it is, I set the device to use the first GPU (cuda:0) for faster model training and computation."
      ]
    },
    {
      "cell_type": "code",
      "execution_count": 3,
      "metadata": {
        "id": "gUsktFUk4roY"
      },
      "outputs": [],
      "source": [
        "torch.cuda.is_available()\n",
        "device = torch.device('cuda:0')"
      ]
    },
    {
      "cell_type": "code",
      "execution_count": 4,
      "metadata": {
        "id": "_ZvyOKXY4tkx"
      },
      "outputs": [],
      "source": [
        "from matplotlib.pyplot import imshow\n",
        "import matplotlib.pylab as plt"
      ]
    },
    {
      "cell_type": "code",
      "execution_count": 5,
      "metadata": {
        "id": "vkYtiLjV4w_2"
      },
      "outputs": [],
      "source": [
        "def show_data(d_s):\n",
        "    image = d_s[0]\n",
        "    plt.imshow(image.numpy().reshape(16,16), cmap='gray')\n",
        "    plt.title('y = ' + str(d_s[1]))\n",
        "    plt.show()"
      ]
    },
    {
      "cell_type": "markdown",
      "metadata": {
        "id": "mdx7hYPJcwr-"
      },
      "source": [
        "At this step, I set up some of image transformations to resize images to 16x16 pixels and convert them into tensor format. This ensures that the images are properly formatted for input into the neural network."
      ]
    },
    {
      "cell_type": "code",
      "execution_count": 6,
      "metadata": {
        "id": "2kqVSpsw4zul"
      },
      "outputs": [],
      "source": [
        "composed = transforms.Compose([transforms.Resize((16,16)), transforms.ToTensor()])"
      ]
    },
    {
      "cell_type": "markdown",
      "metadata": {
        "id": "cYEUjMluhzqe"
      },
      "source": [
        "At this step, I load the training and validation datasets (KMNIST)"
      ]
    },
    {
      "cell_type": "code",
      "execution_count": 7,
      "metadata": {
        "id": "VN4f5oYN42mp"
      },
      "outputs": [],
      "source": [
        "#Training Data Set\n",
        "dataset_train = dsets.KMNIST(\n",
        "    root = './data',\n",
        "    train = True,\n",
        "    download = True,\n",
        "    transform = composed\n",
        ")\n",
        "#Validation Data Set\n",
        "dataset_val = dsets.KMNIST(\n",
        "    root = './data',\n",
        "    train = False,\n",
        "    download = False,\n",
        "    transform = composed\n",
        ")"
      ]
    },
    {
      "cell_type": "markdown",
      "metadata": {
        "id": "a95l39jbh82X"
      },
      "source": [
        "Viewing some of the samples in validation dataset."
      ]
    },
    {
      "cell_type": "code",
      "execution_count": 8,
      "metadata": {
        "colab": {
          "base_uri": "https://localhost:8080/",
          "height": 1000
        },
        "id": "VGW7Ikfq43sM",
        "outputId": "aaa66ebf-3e73-4c79-ab0e-50ecf493544f"
      },
      "outputs": [
        {
          "data": {
            "image/png": "[encoded data removed]",
            "text/plain": [
              "<Figure size 640x480 with 1 Axes>"
            ]
          },
          "metadata": {},
          "output_type": "display_data"
        },
        {
          "data": {
            "image/png": "[encoded data removed]",
            "text/plain": [
              "<Figure size 640x480 with 1 Axes>"
            ]
          },
          "metadata": {},
          "output_type": "display_data"
        },
        {
          "data": {
            "image/png": "[encoded data removed]",
            "text/plain": [
              "<Figure size 640x480 with 1 Axes>"
            ]
          },
          "metadata": {},
          "output_type": "display_data"
        }
      ],
      "source": [
        "for n, data_sample in enumerate(dataset_val):\n",
        "  show_data(data_sample)\n",
        "  plt.show()\n",
        "  if n==2:\n",
        "    break"
      ]
    },
    {
      "cell_type": "markdown",
      "metadata": {
        "id": "O1SkINX4iGMW"
      },
      "source": [
        "Here, complete model architecture is defined. I have created a CNN for this task. I have also used batch normalization to practically see its effects on my model. Initially, I trained a model without using batch normalization, and there were considerable differences in the results as compared to this current model."
      ]
    },
    {
      "cell_type": "code",
      "execution_count": 9,
      "metadata": {
        "id": "3kkZSSbd45_R"
      },
      "outputs": [],
      "source": [
        "class CNN(nn.Module):\n",
        "    def __init__(self, out_1=16, out_2=32, out_3=64, number_of_classes=10):\n",
        "        super(CNN, self).__init__()\n",
        "        self.cnn1 = nn.Conv2d(in_channels=1, out_channels=out_1, kernel_size=5, padding=2)\n",
        "        self.conv1_bn = nn.BatchNorm2d(out_1)\n",
        "        self.relu1 = nn.ReLU()\n",
        "        self.maxpool1 = nn.MaxPool2d(kernel_size=2)\n",
        "\n",
        "        self.cnn2 = nn.Conv2d(in_channels=out_1, out_channels=out_2, kernel_size=5, stride=1, padding=2)\n",
        "        self.conv2_bn = nn.BatchNorm2d(out_2)\n",
        "        self.relu2 = nn.ReLU()\n",
        "        self.maxpool2 = nn.MaxPool2d(kernel_size=2)\n",
        "\n",
        "        self.cnn3 = nn.Conv2d(in_channels=out_2, out_channels=out_3, kernel_size=3, stride=1, padding=1)\n",
        "        self.conv3_bn = nn.BatchNorm2d(out_3)\n",
        "        self.relu3 = nn.ReLU()\n",
        "        self.maxpool3 = nn.MaxPool2d(kernel_size=2)\n",
        "\n",
        "        self.fc1 = nn.Linear(out_3 * 2 * 2, number_of_classes)\n",
        "\n",
        "    def conv_layers(self, x):\n",
        "        x = self.cnn1(x)\n",
        "        x = self.conv1_bn(x)\n",
        "        x = self.relu1(x)\n",
        "        x = self.maxpool1(x)\n",
        "\n",
        "        x = self.cnn2(x)\n",
        "        x = self.conv2_bn(x)\n",
        "        x = self.relu2(x)\n",
        "        x = self.maxpool2(x)\n",
        "\n",
        "        x = self.cnn3(x)\n",
        "        x = self.conv3_bn(x)\n",
        "        x = self.relu3(x)\n",
        "        x = self.maxpool3(x)\n",
        "\n",
        "        return x\n",
        "\n",
        "    def forward(self, x):\n",
        "        x = self.conv_layers(x)\n",
        "        x = x.view(x.size(0), -1)\n",
        "        x = self.fc1(x)\n",
        "        return x"
      ]
    },
    {
      "cell_type": "markdown",
      "metadata": {
        "id": "fjWls4ZqiRht"
      },
      "source": [
        "Here, I have loaded the datasets in loaders by keeping the batch size of 100 for smooth processing."
      ]
    },
    {
      "cell_type": "code",
      "execution_count": 10,
      "metadata": {
        "id": "wUXSRcRW49jN"
      },
      "outputs": [],
      "source": [
        "train_loader = DataLoader(dataset=dataset_train, batch_size=100)\n",
        "validation_loader = DataLoader(dataset=dataset_val, batch_size=100)"
      ]
    },
    {
      "cell_type": "code",
      "execution_count": 11,
      "metadata": {
        "colab": {
          "base_uri": "https://localhost:8080/"
        },
        "id": "VjmEb-AU4_uw",
        "outputId": "18bfe120-dbdf-422a-884a-fb40b1d8d895"
      },
      "outputs": [
        {
          "data": {
            "text/plain": [
              "CNN(\n",
              "  (cnn1): Conv2d(1, 16, kernel_size=(5, 5), stride=(1, 1), padding=(2, 2))\n",
              "  (conv1_bn): BatchNorm2d(16, eps=1e-05, momentum=0.1, affine=True, track_running_stats=True)\n",
              "  (relu1): ReLU()\n",
              "  (maxpool1): MaxPool2d(kernel_size=2, stride=2, padding=0, dilation=1, ceil_mode=False)\n",
              "  (cnn2): Conv2d(16, 32, kernel_size=(5, 5), stride=(1, 1), padding=(2, 2))\n",
              "  (conv2_bn): BatchNorm2d(32, eps=1e-05, momentum=0.1, affine=True, track_running_stats=True)\n",
              "  (relu2): ReLU()\n",
              "  (maxpool2): MaxPool2d(kernel_size=2, stride=2, padding=0, dilation=1, ceil_mode=False)\n",
              "  (cnn3): Conv2d(32, 64, kernel_size=(3, 3), stride=(1, 1), padding=(1, 1))\n",
              "  (conv3_bn): BatchNorm2d(64, eps=1e-05, momentum=0.1, affine=True, track_running_stats=True)\n",
              "  (relu3): ReLU()\n",
              "  (maxpool3): MaxPool2d(kernel_size=2, stride=2, padding=0, dilation=1, ceil_mode=False)\n",
              "  (fc1): Linear(in_features=256, out_features=10, bias=True)\n",
              ")"
            ]
          },
          "execution_count": 11,
          "metadata": {},
          "output_type": "execute_result"
        }
      ],
      "source": [
        "model = CNN(out_1=16, out_2=32, out_3=64, number_of_classes=10)\n",
        "model.to(device)"
      ]
    },
    {
      "cell_type": "markdown",
      "metadata": {
        "id": "mx7AVrIjieFZ"
      },
      "source": [
        "Here, I have created criterion (to determine the loss of my model) and optimizer (to update parameters accordingly). I am using Cross Entropy Loss and Stochastic Gradient Descent (SGD) as loss function and optimizer respectively."
      ]
    },
    {
      "cell_type": "code",
      "execution_count": 12,
      "metadata": {
        "id": "v0uXDDth5C2Z"
      },
      "outputs": [],
      "source": [
        "criterion = nn.CrossEntropyLoss()\n",
        "optimizer = torch.optim.SGD(model.parameters(), lr=0.01)"
      ]
    },
    {
      "cell_type": "markdown",
      "metadata": {
        "id": "ZSNS2yBoi347"
      },
      "source": [
        "In this second last stage, I have trained the model on training set and also keeping the record of cost. Moreover, the model is also being evaluated on validation dataset and accuracy is being calculated.\n",
        "\n",
        "The total number of epochs is 25.\n",
        "\n",
        "At the end of each iteration, loss and accuracy is being printed to see model's progress."
      ]
    },
    {
      "cell_type": "code",
      "execution_count": 13,
      "metadata": {
        "colab": {
          "base_uri": "https://localhost:8080/"
        },
        "id": "s_UhWjjj5Dwb",
        "outputId": "539c5950-5dea-4d8a-a88d-e6af2c97f68a"
      },
      "outputs": [
        {
          "name": "stdout",
          "output_type": "stream",
          "text": [
            "Epoch 1/25, Loss: 0.5824, Accuracy: 0.8094\n",
            "Epoch 2/25, Loss: 0.2175, Accuracy: 0.8587\n",
            "Epoch 3/25, Loss: 0.1524, Accuracy: 0.8850\n",
            "Epoch 4/25, Loss: 0.1196, Accuracy: 0.8984\n",
            "Epoch 5/25, Loss: 0.0992, Accuracy: 0.9091\n",
            "Epoch 6/25, Loss: 0.0848, Accuracy: 0.9151\n",
            "Epoch 7/25, Loss: 0.0741, Accuracy: 0.9222\n",
            "Epoch 8/25, Loss: 0.0656, Accuracy: 0.9249\n",
            "Epoch 9/25, Loss: 0.0585, Accuracy: 0.9280\n",
            "Epoch 10/25, Loss: 0.0526, Accuracy: 0.9308\n",
            "Epoch 11/25, Loss: 0.0474, Accuracy: 0.9339\n",
            "Epoch 12/25, Loss: 0.0430, Accuracy: 0.9350\n",
            "Epoch 13/25, Loss: 0.0391, Accuracy: 0.9356\n",
            "Epoch 14/25, Loss: 0.0356, Accuracy: 0.9356\n",
            "Epoch 15/25, Loss: 0.0326, Accuracy: 0.9376\n",
            "Epoch 16/25, Loss: 0.0298, Accuracy: 0.9376\n",
            "Epoch 17/25, Loss: 0.0274, Accuracy: 0.9383\n",
            "Epoch 18/25, Loss: 0.0252, Accuracy: 0.9384\n",
            "Epoch 19/25, Loss: 0.0233, Accuracy: 0.9394\n",
            "Epoch 20/25, Loss: 0.0214, Accuracy: 0.9397\n",
            "Epoch 21/25, Loss: 0.0198, Accuracy: 0.9401\n",
            "Epoch 22/25, Loss: 0.0184, Accuracy: 0.9403\n",
            "Epoch 23/25, Loss: 0.0171, Accuracy: 0.9409\n",
            "Epoch 24/25, Loss: 0.0158, Accuracy: 0.9411\n",
            "Epoch 25/25, Loss: 0.0147, Accuracy: 0.9415\n"
          ]
        }
      ],
      "source": [
        "cost_l = []\n",
        "accuracy_l = []\n",
        "N_test = len(dataset_val)\n",
        "n_epochs = 25\n",
        "for epoch in range(n_epochs):\n",
        "    cost = 0\n",
        "    model.train()\n",
        "    for x,y in train_loader:\n",
        "      x = x.to(device)\n",
        "      y = y.to(device)\n",
        "      optimizer.zero_grad()\n",
        "      prediction = model(x)\n",
        "      loss = criterion(prediction, y)\n",
        "      loss.backward()\n",
        "      optimizer.step()\n",
        "      cost += loss.item()\n",
        "    correct = 0\n",
        "    model.eval()\n",
        "    for x_test, y_test in validation_loader:\n",
        "      x_test = x_test.to(device)\n",
        "      y_test = y_test.to(device)\n",
        "      prediction = model(x_test)\n",
        "      _, yhat = torch.max(prediction.data, 1)\n",
        "      correct += (yhat == y_test).sum().item()\n",
        "    accuracy = correct/N_test\n",
        "    cost = cost/len(train_loader)\n",
        "    cost_l.append(cost)\n",
        "    accuracy_l.append(accuracy)\n",
        "    print(f\"Epoch {epoch+1}/{n_epochs}, Loss: {cost:.4f}, Accuracy: {accuracy:.4f}\")"
      ]
    },
    {
      "cell_type": "markdown",
      "metadata": {
        "id": "91ekx-VLjaeJ"
      },
      "source": [
        "At this final stage, I have plotted cost (in red) and accuracy (in blue) to better visualize the results."
      ]
    },
    {
      "cell_type": "code",
      "execution_count": 15,
      "metadata": {
        "colab": {
          "base_uri": "https://localhost:8080/",
          "height": 487
        },
        "id": "WXDzw7OY5HuV",
        "outputId": "14dc94e2-4a68-4ed9-af58-5122cd2c0cfa"
      },
      "outputs": [
        {
          "data": {
            "image/png": "[encoded data removed]",
            "text/plain": [
              "<Figure size 640x480 with 2 Axes>"
            ]
          },
          "metadata": {},
          "output_type": "display_data"
        }
      ],
      "source": [
        "fig, ax1 = plt.subplots()\n",
        "color = 'tab:red'\n",
        "ax1.plot(cost_l, color=color)\n",
        "ax1.set_xlabel('epoch', color=color)\n",
        "ax1.set_ylabel('Cost', color=color)\n",
        "ax1.tick_params(axis='y', color=color)\n",
        "\n",
        "ax2 = ax1.twinx()\n",
        "color = 'tab:blue'\n",
        "ax2.set_ylabel('Accuracy', color=color)\n",
        "ax2.set_xlabel('epoch', color=color)\n",
        "ax2.plot( accuracy_l, color=color)\n",
        "ax2.tick_params(axis='y', color=color)\n",
        "fig.tight_layout()"
      ]
    }
  ],
  "metadata": {
    "accelerator": "GPU",
    "colab": {
      "gpuType": "T4",
      "provenance": []
    },
    "kernelspec": {
      "display_name": "Python 3",
      "name": "python3"
    },
    "language_info": {
      "name": "python"
    }
  },
  "nbformat": 4,
  "nbformat_minor": 0
}
